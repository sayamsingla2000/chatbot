{
 "cells": [
  {
   "cell_type": "code",
   "execution_count": 1,
   "metadata": {},
   "outputs": [],
   "source": [
    "#import the packages\n",
    "from newspaper import Article\n",
    "import random\n",
    "import string\n",
    "import numpy as np\n",
    "import warnings\n",
    "import nltk\n",
    "from sklearn.feature_extraction.text import TfidfVectorizer\n",
    "from sklearn.metrics.pairwise import cosine_similarity"
   ]
  },
  {
   "cell_type": "code",
   "execution_count": 2,
   "metadata": {},
   "outputs": [],
   "source": [
    "#ignore the warnings\n",
    "warnings.filterwarnings('ignore')"
   ]
  },
  {
   "cell_type": "code",
   "execution_count": 3,
   "metadata": {},
   "outputs": [
    {
     "data": {
      "text/plain": [
       "True"
      ]
     },
     "execution_count": 3,
     "metadata": {},
     "output_type": "execute_result"
    }
   ],
   "source": [
    "#download package from nltk\n",
    "nltk.download('punkt',quiet=True)\n",
    "nltk.download('wordnet',quiet=True)"
   ]
  },
  {
   "cell_type": "code",
   "execution_count": 4,
   "metadata": {},
   "outputs": [
    {
     "name": "stdout",
     "output_type": "stream",
     "text": [
      "Coronavirus is a virus in the family Coronaviridae.[1][2] They are enveloped viruses with a positive-sense RNA genome.[3] They have a nucleocapsid of helical symmetry. The genome size of coronaviruses is about 26 to 32 kilobases,[4] which is extraordinarily large for an RNA virus.\n",
      "\n",
      "The name \"coronavirus\" comes from the Latin word corona, meaning \"crown\" or \"halo\", and refers to how virions look under an electron microscopy (E.M.).[5] They have a fringe of large, bulbous surface projections looking like a crown. This morphology is created by the viral spike (S) peplomers, which are proteins on the surface of the virus. They decide which cells the virus can infect.\n",
      "\n",
      "Proteins that contribute to the structure of coronaviruses are the spike (S), envelope (E), membrane (M) and nucleocapsid (N).\n",
      "\n",
      "Coronaviruses often stick to the hands, and the virus is often caused by people touching their hands to their mouth. It gets in the trachea and makes it way down to the lungs, where it sticks to cells and tissues to replicate itself.\n",
      "\n",
      "3D Animated virion of The SARS-CoV-2 virus strain\n",
      "\n",
      "Coronaviruses infect the upper respiratory and gastrointestinal tracts of mammals and birds. Six different strains of coronaviruses infect humans. These include:\n",
      "\n",
      "Coronaviruses are believed to cause many common colds in human adults. The significance and economic impact of coronaviruses is hard to assess. Unlike rhinoviruses (another common cold virus), human coronaviruses are easy to grow in the laboratory.\n"
     ]
    }
   ],
   "source": [
    "#get artical url\n",
    "article= Article('https://simple.wikipedia.org/wiki/Coronavirus')\n",
    "article.download()\n",
    "article.parse()\n",
    "\n",
    "article.nlp()\n",
    "\n",
    "corpus=article.text\n",
    "#print\n",
    "print(corpus)"
   ]
  },
  {
   "cell_type": "code",
   "execution_count": 5,
   "metadata": {},
   "outputs": [
    {
     "name": "stdout",
     "output_type": "stream",
     "text": [
      "['Coronavirus is a virus in the family Coronaviridae.', '[1][2] They are enveloped viruses with a positive-sense RNA genome.', '[3] They have a nucleocapsid of helical symmetry.', 'The genome size of coronaviruses is about 26 to 32 kilobases,[4] which is extraordinarily large for an RNA virus.', 'The name \"coronavirus\" comes from the Latin word corona, meaning \"crown\" or \"halo\", and refers to how virions look under an electron microscopy (E.M.).', '[5] They have a fringe of large, bulbous surface projections looking like a crown.', 'This morphology is created by the viral spike (S) peplomers, which are proteins on the surface of the virus.', 'They decide which cells the virus can infect.', 'Proteins that contribute to the structure of coronaviruses are the spike (S), envelope (E), membrane (M) and nucleocapsid (N).', 'Coronaviruses often stick to the hands, and the virus is often caused by people touching their hands to their mouth.', 'It gets in the trachea and makes it way down to the lungs, where it sticks to cells and tissues to replicate itself.', '3D Animated virion of The SARS-CoV-2 virus strain\\n\\nCoronaviruses infect the upper respiratory and gastrointestinal tracts of mammals and birds.', 'Six different strains of coronaviruses infect humans.', 'These include:\\n\\nCoronaviruses are believed to cause many common colds in human adults.', 'The significance and economic impact of coronaviruses is hard to assess.', 'Unlike rhinoviruses (another common cold virus), human coronaviruses are easy to grow in the laboratory.']\n"
     ]
    }
   ],
   "source": [
    "#tokenization\n",
    "text=corpus\n",
    "sent_tokens=nltk.sent_tokenize(text)\n",
    "print(sent_tokens)"
   ]
  },
  {
   "cell_type": "code",
   "execution_count": 6,
   "metadata": {},
   "outputs": [
    {
     "name": "stdout",
     "output_type": "stream",
     "text": [
      "!\"#$%&'()*+,-./:;<=>?@[\\]^_`{|}~\n",
      "{33: None, 34: None, 35: None, 36: None, 37: None, 38: None, 39: None, 40: None, 41: None, 42: None, 43: None, 44: None, 45: None, 46: None, 47: None, 58: None, 59: None, 60: None, 61: None, 62: None, 63: None, 64: None, 91: None, 92: None, 93: None, 94: None, 95: None, 96: None, 123: None, 124: None, 125: None, 126: None}\n"
     ]
    }
   ],
   "source": [
    "#creating a dictionary to remove the punctuation\n",
    "remove_punct_dict=dict( (ord(punct),None) for punct in string.punctuation)\n",
    "print(string.punctuation)\n",
    "print(remove_punct_dict)"
   ]
  },
  {
   "cell_type": "code",
   "execution_count": 7,
   "metadata": {},
   "outputs": [
    {
     "name": "stdout",
     "output_type": "stream",
     "text": [
      "['coronavirus', 'is', 'a', 'virus', 'in', 'the', 'family', 'coronaviridae12', 'they', 'are', 'enveloped', 'viruses', 'with', 'a', 'positivesense', 'rna', 'genome3', 'they', 'have', 'a', 'nucleocapsid', 'of', 'helical', 'symmetry', 'the', 'genome', 'size', 'of', 'coronaviruses', 'is', 'about', '26', 'to', '32', 'kilobases4', 'which', 'is', 'extraordinarily', 'large', 'for', 'an', 'rna', 'virus', 'the', 'name', 'coronavirus', 'comes', 'from', 'the', 'latin', 'word', 'corona', 'meaning', 'crown', 'or', 'halo', 'and', 'refers', 'to', 'how', 'virions', 'look', 'under', 'an', 'electron', 'microscopy', 'em5', 'they', 'have', 'a', 'fringe', 'of', 'large', 'bulbous', 'surface', 'projections', 'looking', 'like', 'a', 'crown', 'this', 'morphology', 'is', 'created', 'by', 'the', 'viral', 'spike', 's', 'peplomers', 'which', 'are', 'proteins', 'on', 'the', 'surface', 'of', 'the', 'virus', 'they', 'decide', 'which', 'cells', 'the', 'virus', 'can', 'infect', 'proteins', 'that', 'contribute', 'to', 'the', 'structure', 'of', 'coronaviruses', 'are', 'the', 'spike', 's', 'envelope', 'e', 'membrane', 'm', 'and', 'nucleocapsid', 'n', 'coronaviruses', 'often', 'stick', 'to', 'the', 'hands', 'and', 'the', 'virus', 'is', 'often', 'caused', 'by', 'people', 'touching', 'their', 'hands', 'to', 'their', 'mouth', 'it', 'gets', 'in', 'the', 'trachea', 'and', 'makes', 'it', 'way', 'down', 'to', 'the', 'lungs', 'where', 'it', 'sticks', 'to', 'cells', 'and', 'tissues', 'to', 'replicate', 'itself', '3d', 'animated', 'virion', 'of', 'the', 'sarscov2', 'virus', 'strain', 'coronaviruses', 'infect', 'the', 'upper', 'respiratory', 'and', 'gastrointestinal', 'tracts', 'of', 'mammals', 'and', 'birds', 'six', 'different', 'strains', 'of', 'coronaviruses', 'infect', 'humans', 'these', 'include', 'coronaviruses', 'are', 'believed', 'to', 'cause', 'many', 'common', 'colds', 'in', 'human', 'adults', 'the', 'significance', 'and', 'economic', 'impact', 'of', 'coronaviruses', 'is', 'hard', 'to', 'assess', 'unlike', 'rhinoviruses', 'another', 'common', 'cold', 'virus', 'human', 'coronaviruses', 'are', 'easy', 'to', 'grow', 'in', 'the', 'laboratory']\n"
     ]
    }
   ],
   "source": [
    "#create a function to return lower case words \n",
    "def LemNormalize(text):\n",
    "  return nltk.word_tokenize(text.lower().translate(remove_punct_dict))\n",
    "print(LemNormalize(text))"
   ]
  },
  {
   "cell_type": "code",
   "execution_count": 8,
   "metadata": {},
   "outputs": [],
   "source": [
    "#keywords for greetings\n",
    "greeting_input=[\"hi\",\"hello\",\"hey\",\"hola\"]\n",
    "greeting_response=[\"howdy\",\"hey there\",\"hi\",\"hello :)\"]\n",
    "def greeting(sentence):\n",
    "  for word in sentence.split():\n",
    "    if word.lower() in greeting_input:\n",
    "      return random.choice(greeting_response)"
   ]
  },
  {
   "cell_type": "code",
   "execution_count": 9,
   "metadata": {},
   "outputs": [],
   "source": [
    "def response(user_response):\n",
    " #user response and robo responce\n",
    "  #user_response=\"WHat is chronic disease\"\n",
    "  user_response=user_response.lower()\n",
    "  #print(user_response)\n",
    "  #robo response\n",
    "  robo_response=''\n",
    "  sent_tokens.append(user_response)\n",
    "  #print(sent_tokens)\n",
    "  tfidfvec=TfidfVectorizer(tokenizer=LemNormalize , stop_words='english')\n",
    "  tfidf=tfidfvec.fit_transform(sent_tokens)\n",
    "  #print(tfidf)\n",
    "  #get similarity score\n",
    "  val=cosine_similarity(tfidf[-1],tfidf)\n",
    "  #print(val)\n",
    "  idx=val.argsort()[0][-2]\n",
    "  flat=val.flatten()\n",
    "  flat.sort()\n",
    "  score=flat[-2]\n",
    "  #print(score)\n",
    "  if score==0:\n",
    "    robo_response=robo_response+\"sorry,i dont understand\"\n",
    "  else:\n",
    "    robo_response=robo_response+sent_tokens[idx]\n",
    "\n",
    "  sent_tokens.remove(user_response)\n",
    "  return robo_response"
   ]
  },
  {
   "cell_type": "code",
   "execution_count": null,
   "metadata": {},
   "outputs": [
    {
     "name": "stdout",
     "output_type": "stream",
     "text": [
      "hello!!! this is Samantha,i can answer your queris related to light ,type bye to exit\n",
      "sayam:hey\n",
      "Samantha: hello :)\n",
      "sayam:how are you\n",
      "Samantha:sorry,i dont understand\n",
      "sayam:what is coronavirus\n",
      "Samantha:Coronavirus is a virus in the family Coronaviridae.\n",
      "sayam:how it is dangerous\n",
      "Samantha:sorry,i dont understand\n"
     ]
    }
   ],
   "source": [
    "greeting_input=[\"hi\",\"hello\",\"hey\",\"hola\"]\n",
    "greeting_response=[\"howdy\",\"hey there\",\"hi\",\"hello :)\"]\n",
    "def greeting(sentence):\n",
    "  for word in sentence.split():\n",
    "    if word.lower() in greeting_input:\n",
    "      return random.choice(greeting_response)\n",
    "flag=True\n",
    "print(\"hello!!! this is Samantha,i can answer your queris related to light ,type bye to exit\")\n",
    "while(flag==True):\n",
    "  user_response=input(\"sayam:\")\n",
    "  #user_response=user_response.lower()\n",
    "  if(user_response!='bye'):\n",
    "    if(user_response=='thanks' or user_response=='thank you'):\n",
    "      flag=False\n",
    "      print(\"Samantha: anytime :)\")\n",
    "    else:\n",
    "       if( greeting(user_response) != None):\n",
    "         print(\"Samantha: \"+ greeting(user_response))\n",
    "       else:\n",
    "         print(\"Samantha:\"+response(user_response))\n",
    "  else:\n",
    "    flag=False\n",
    "    print(\"Samantha: see you later :)\")\n"
   ]
  },
  {
   "cell_type": "code",
   "execution_count": null,
   "metadata": {},
   "outputs": [],
   "source": []
  }
 ],
 "metadata": {
  "kernelspec": {
   "display_name": "Python 3",
   "language": "python",
   "name": "python3"
  },
  "language_info": {
   "codemirror_mode": {
    "name": "ipython",
    "version": 3
   },
   "file_extension": ".py",
   "mimetype": "text/x-python",
   "name": "python",
   "nbconvert_exporter": "python",
   "pygments_lexer": "ipython3",
   "version": "3.7.7"
  }
 },
 "nbformat": 4,
 "nbformat_minor": 4
}
